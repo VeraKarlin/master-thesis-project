{
 "cells": [
  {
   "cell_type": "code",
   "execution_count": 1,
   "metadata": {},
   "outputs": [],
   "source": [
    "from typing import List, Tuple, Optional, Dict, NamedTuple, Union, Callable\n",
    "import itertools\n",
    "import os\n",
    "import string\n",
    "from pathlib import Path\n",
    "\n",
    "import numpy as np\n",
    "import torch\n",
    "from scipy.spatial.distance import squareform, pdist, cdist\n",
    "from sklearn.cluster import KMeans\n",
    "from k_means_constrained import KMeansConstrained\n",
    "import matplotlib.pyplot as plt\n",
    "import matplotlib as mpl\n",
    "from Bio import SeqIO\n",
    "from Bio.PDB import *\n",
    "import biotite.structure as bs\n",
    "from biotite.structure.io.pdbx import PDBxFile, get_structure\n",
    "from biotite.database import rcsb\n",
    "from tqdm import tqdm\n",
    "import pandas as pd\n",
    "import seaborn as sns\n",
    "import glob\n",
    "import subprocess\n",
    "\n",
    "import esm\n",
    "from sklearn.cluster import DBSCAN\n",
    "from sklearn.preprocessing import StandardScaler"
   ]
  },
  {
   "cell_type": "code",
   "execution_count": 2,
   "metadata": {},
   "outputs": [],
   "source": [
    "parser = PDBParser(PERMISSIVE = True, QUIET = True) \n",
    "pdbl = PDBList() \n",
    "\n",
    "def get_pdb_residues(PDB_ID):\n",
    "    pdb = PDB_ID.upper()[:4]\n",
    "    chain_id = PDB_ID.upper()[-1]\n",
    "    \n",
    "    ## Get the data from the pdb file\n",
    "    pdbl.retrieve_pdb_file(PDB_ID.upper()[:4], pdir = '.', file_format = 'pdb')\n",
    "    data = parser.get_structure(pdb,\"pdb\" + pdb.lower() + \".ent\")\n",
    "    os.remove(\"pdb\" + pdb.lower() + \".ent\")\n",
    "\n",
    "    all_residues = {}\n",
    "    \n",
    "    missing = [res for res in data.header[\"missing_residues\"] if res[\"chain\"] == chain_id]\n",
    "    for res in missing:\n",
    "        key = res[\"ssseq\"]\n",
    "        all_residues[key] = False\n",
    "    \n",
    "    model = list(data.get_models())[0]\n",
    "    chains = list(model.get_chains()) \n",
    "    residues = list([chain for chain in chains if chain.id == chain_id][0].get_residues())\n",
    "    residues = [res for res in residues if str(res)[17] == ' ']\n",
    "    for res in residues:\n",
    "        if not str(res)[28].isnumeric():\n",
    "            key = int(str(res)[26:28])\n",
    "        elif not str(res)[29].isnumeric():\n",
    "            key = int(str(res)[26:29])\n",
    "        else:\n",
    "            key = int(str(res)[26:30])\n",
    "        all_residues[key] = True\n",
    "    \n",
    "    pdb_indices = []\n",
    "    index = 0\n",
    "    for i in range(10000):\n",
    "        if i in all_residues:\n",
    "            if all_residues[i]:\n",
    "                pdb_indices.append(index)\n",
    "            index += 1\n",
    "    return pdb_indices\n",
    "\n",
    "def download_pdb(directory, pdb_id):\n",
    "    pdb = pdb_id.lower()[:4]\n",
    "    chain_id = pdb_id.upper()[-1]\n",
    "    \n",
    "    # Get the data from the pdb file\n",
    "    pdbl.retrieve_pdb_file(pdb, pdir = directory, file_format = 'pdb')\n",
    "    structure = parser.get_structure(pdb, directory + \"pdb\" + pdb + \".ent\")\n",
    "    os.remove(directory + \"pdb\" + pdb + \".ent\")\n",
    "\n",
    "    for model in structure:\n",
    "        for chain in model:\n",
    "            class ChainSelect(Select):\n",
    "                        def accept_chain(self, chain):\n",
    "                            if chain.get_id().upper() == chain_id:\n",
    "                                return True\n",
    "                            else:\n",
    "                                return False\n",
    "            \n",
    "    io = PDBIO()\n",
    "    io.set_structure(structure)\n",
    "    io.save(directory + pdb_id + \".pdb\" , ChainSelect())"
   ]
  },
  {
   "cell_type": "code",
   "execution_count": 3,
   "metadata": {},
   "outputs": [
    {
     "name": "stdout",
     "output_type": "stream",
     "text": [
      "Downloading PDB structure '4qhh'...\n"
     ]
    }
   ],
   "source": [
    "#PDB_ID = \"2qke_e\"\n",
    "#DIRECTORY = \"../data/benchmark_data/af_cluster_monomeric/KaiB/reference_1/\"\n",
    "\n",
    "PDB_ID = \"4qhh_a\"\n",
    "DIRECTORY = \"../data/benchmark_data/af_cluster_oligomeric/Selecase/reference_2/\"\n",
    "\n",
    "download_pdb(DIRECTORY, PDB_ID)"
   ]
  },
  {
   "cell_type": "code",
   "execution_count": 21,
   "metadata": {},
   "outputs": [
    {
     "name": "stdout",
     "output_type": "stream",
     "text": [
      "<Model id=0>\n",
      "<Chain id=A> A <class 'str'>\n",
      "<Chain id=B> B <class 'str'>\n",
      "<Chain id=C> C <class 'str'>\n",
      "<Chain id=D> D <class 'str'>\n",
      "<Chain id=E> E <class 'str'>\n",
      "<Chain id=F> F <class 'str'>\n"
     ]
    }
   ],
   "source": [
    "structure = parser.get_structure(PDB_ID, DIRECTORY + PDB_ID.lower() + \".pdb\")\n",
    "\n",
    "for model in structure:\n",
    "    print(model)\n",
    "    for chain in model:\n",
    "        \n",
    "        print(chain, chain.get_id(), type(chain.get_id()))\n",
    "        \n",
    "        class ChainSelect(Select):\n",
    "                    def accept_chain(self, chain):\n",
    "                        if chain.get_id().upper() == chain_id:\n",
    "                            return True\n",
    "                        else:\n",
    "                            return False\n",
    "        \n",
    "io = PDBIO()\n",
    "io.set_structure(structure)\n",
    "io.save(DIRECTORY + PDB_ID + \".pdb\" , ChainSelect())"
   ]
  },
  {
   "cell_type": "code",
   "execution_count": null,
   "metadata": {},
   "outputs": [],
   "source": []
  }
 ],
 "metadata": {
  "kernelspec": {
   "display_name": "SE3-nvidia",
   "language": "python",
   "name": "python3"
  },
  "language_info": {
   "codemirror_mode": {
    "name": "ipython",
    "version": 3
   },
   "file_extension": ".py",
   "mimetype": "text/x-python",
   "name": "python",
   "nbconvert_exporter": "python",
   "pygments_lexer": "ipython3",
   "version": "3.9.16"
  },
  "orig_nbformat": 4
 },
 "nbformat": 4,
 "nbformat_minor": 2
}
